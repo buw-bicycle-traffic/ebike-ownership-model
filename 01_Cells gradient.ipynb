{
 "cells": [
  {
   "cell_type": "code",
   "execution_count": null,
   "id": "bf701203",
   "metadata": {},
   "outputs": [],
   "source": [
    "import pandas as pd\n",
    "import numpy as np\n",
    "from statistics import mean\n",
    "pd.set_option('display.max_rows', 100)"
   ]
  },
  {
   "cell_type": "code",
   "execution_count": null,
   "id": "332bbbbc",
   "metadata": {},
   "outputs": [],
   "source": [
    "# Raw data from Burgdorf M, Pütz T. Dokumentation der Raumvariablen des BBSR im Regionalfile. Annex 5 to the user manual for the MiD 2017. 2019.\n",
    "\n",
    "#df = pd.read_csv('C:/Users/arning/sciebo/04_Research/02_Current projects/2023_04_PLUG-IN/04_Data BBSR/250m_slope_transformed.csv')\n",
    "#df = df[['xcoord','ycoord','zcoord']]\n",
    "#df.to_csv('C:/Users/arning/sciebo/04_Research/02_Current projects/2023_04_PLUG-IN/04_Data BBSR/250m_slope_transformed.csv')\n",
    "#df"
   ]
  },
  {
   "cell_type": "code",
   "execution_count": null,
   "id": "61ff9788",
   "metadata": {},
   "outputs": [],
   "source": [
    "#read 250m slope data\n",
    "df = pd.read_csv('C:/Users/arning/sciebo/04_Research/02_Current projects/2023_04_PLUG-IN/04_Data BBSR/250m_slope_transformed.csv')\n",
    "#df.sample(100)"
   ]
  },
  {
   "cell_type": "code",
   "execution_count": null,
   "id": "baeff89f",
   "metadata": {},
   "outputs": [],
   "source": [
    "#round values to nearest 250m value to realign with 1km cells\n",
    "df['xcoord'] = np.round(df['xcoord'] / 250) * 250\n",
    "df['ycoord'] = np.round(df['ycoord'] / 250) * 250\n",
    "#df.head(100)"
   ]
  },
  {
   "cell_type": "code",
   "execution_count": null,
   "id": "0298161b",
   "metadata": {},
   "outputs": [],
   "source": [
    "#df.to_csv('C:/Users/arning/sciebo/04_Research/02_Current projects/2023_04_PLUG-IN/04_Data BBSR/250m_slope_transformed_rounded.csv')"
   ]
  },
  {
   "cell_type": "code",
   "execution_count": null,
   "id": "efe32bfe",
   "metadata": {},
   "outputs": [],
   "source": [
    "#assign values to corresponding 1km cells\n",
    "#load 1km cells (from Raumtyp)\n",
    "df1km = pd.read_csv('C:/Users/arning/sciebo/04_Research/02_Current projects/2023_04_PLUG-IN/11_Mode Choice/Python/Raumtyp.csv')\n",
    "#df1km = df1km.head(100)"
   ]
  },
  {
   "cell_type": "code",
   "execution_count": null,
   "id": "43305e53",
   "metadata": {},
   "outputs": [],
   "source": [
    "# Add coordinates (indicated south-western corner of 1km cell)\n",
    "df1km['ycoord'] = 0\n",
    "df1km['xcoord'] = 0\n",
    "\n",
    "for index, row in df1km.iterrows():\n",
    "    df1km.at[index, 'ycoord'] = int(row['cellname'][4:8])*1000\n",
    "    df1km.at[index, 'xcoord'] = int(row['cellname'][9:13])*1000\n",
    "\n",
    "#df1km"
   ]
  },
  {
   "cell_type": "code",
   "execution_count": null,
   "id": "a3fdb385",
   "metadata": {},
   "outputs": [],
   "source": [
    "#for every 1km cell, create list of 250m cells that should be taken into account for\n",
    "#attention: coordinates of 250m cells refer to their centerpoint. We simplify by using it also as their south-western corner; effectively this shifts all data by 125m to the South and West.\n",
    "\n",
    "def return_250m_cells_y(y):\n",
    "    y_list = [y,y,y,y,y+250,y+250,y+250,y+250,y+500,y+500,y+500,y+500,y+750,y+750,y+750,y+750]\n",
    "    return y_list\n",
    "\n",
    "def return_250m_cells_x(x):\n",
    "    x_list = [x,x+250,x+500,x+750,x,x+250,x+500,x+750,x,x+250,x+500,x+750,x,x+250,x+500,x+750]\n",
    "    return x_list"
   ]
  },
  {
   "cell_type": "code",
   "execution_count": null,
   "id": "df6556e3",
   "metadata": {},
   "outputs": [],
   "source": [
    "# Initialize empty lists in the 'ycoords_250' and 'xcoords_250' columns\n",
    "df1km['ycoords_250'] = [None] * len(df1km)\n",
    "df1km['xcoords_250'] = [None] * len(df1km)\n",
    "\n",
    "# Iterate through the DataFrame and populate the columns\n",
    "for index, row in df1km.iterrows():\n",
    "    df1km.at[index, 'ycoords_250'] = return_250m_cells_y(row['ycoord'])\n",
    "    df1km.at[index, 'xcoords_250'] = return_250m_cells_x(row['xcoord'])\n",
    "    \n",
    "#df1km"
   ]
  },
  {
   "cell_type": "code",
   "execution_count": null,
   "id": "aaf26d7f",
   "metadata": {},
   "outputs": [],
   "source": [
    "#Get slope values from corresponding 250m cells onto 1km cells\n",
    "\n",
    "#Initialize empty lists in the slope values column\n",
    "df1km['250m_slopes'] = [[]] * len(df1km)\n",
    "df1km\n",
    "\n",
    "#iterrate over the 1km cells df\n",
    "for index, row in df1km.iterrows():\n",
    "    temp_slope_values = []\n",
    "    #for every 1km cell, iterate over all 16 assigned 250m cell coordinate pairs, look up slope value in 250m df and add it to list    \n",
    "    for i in range(16):\n",
    "        #look up slope value of one 250m cell\n",
    "        temp = df[(df.xcoord == row.xcoords_250[i]) & (df.ycoord == row.ycoords_250[i])]['zcoord']\n",
    "        #add temp slope value to list of values of the 1km cell\n",
    "        temp_slope_values.append(temp.values[0] if not temp.empty else None)\n",
    "    df1km.at[index, '250m_slopes'] = temp_slope_values"
   ]
  },
  {
   "cell_type": "code",
   "execution_count": null,
   "id": "1dcf0451",
   "metadata": {},
   "outputs": [],
   "source": [
    "#average values for each 1km cell\n",
    "#initialize column\n",
    "df1km['slope']=[None] * len(df1km)\n",
    "\n",
    "#keep slope as None if one entry of the 250m_slopes list contains None\n",
    "df1km_nones = df1km[df1km['250m_slopes'].apply(lambda x: None in x)]\n",
    "\n",
    "#create df without nones to apply the averaging function there\n",
    "df1km_no_nones = df1km[~df1km['250m_slopes'].apply(lambda x: None in x)]\n",
    "\n",
    "for index, rows in df1km_no_nones.iterrows():\n",
    "    df1km_no_nones.at[index, 'slope'] = sum(df1km_no_nones.at[index, '250m_slopes'])/len(df1km_no_nones.at[index, '250m_slopes'])"
   ]
  },
  {
   "cell_type": "code",
   "execution_count": null,
   "id": "bc3cb1ae",
   "metadata": {},
   "outputs": [],
   "source": [
    "#Now more complicated average for those 1km cells where one or more 250m cells have non as entry\n",
    "\n",
    "for index, row in df1km_nones.iterrows():\n",
    "    non_none_values = [d for d in row['250m_slopes'] if d is not None]\n",
    "    if non_none_values:\n",
    "        df1km_nones.at[index, 'slope'] = mean(non_none_values)\n",
    "    else:\n",
    "        df1km_nones.at[index, 'slope'] = None\n",
    "\n",
    "#print(df1km_nones)\n",
    "\n",
    "#recombine dataframes\n",
    "data = [df1km_nones, df1km_no_nones]\n",
    "df1km = pd.concat(data)"
   ]
  },
  {
   "cell_type": "code",
   "execution_count": null,
   "id": "9e4d6ba3",
   "metadata": {},
   "outputs": [],
   "source": [
    "#df1km.to_csv('C:/Users/arning/sciebo/04_Research/02_Current projects/2023_04_PLUG-IN/11_Mode Choice/1km_Raumtyp_Slope.csv')"
   ]
  }
 ],
 "metadata": {
  "kernelspec": {
   "display_name": "Python 3 (ipykernel)",
   "language": "python",
   "name": "python3"
  },
  "language_info": {
   "codemirror_mode": {
    "name": "ipython",
    "version": 3
   },
   "file_extension": ".py",
   "mimetype": "text/x-python",
   "name": "python",
   "nbconvert_exporter": "python",
   "pygments_lexer": "ipython3",
   "version": "3.11.5"
  }
 },
 "nbformat": 4,
 "nbformat_minor": 5
}
