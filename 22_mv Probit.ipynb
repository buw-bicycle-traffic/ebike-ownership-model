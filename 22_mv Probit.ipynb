{
 "cells": [
  {
   "cell_type": "code",
   "execution_count": null,
   "id": "2ab0ae09",
   "metadata": {},
   "outputs": [],
   "source": [
    "install.packages(\"mvProbit\")\n",
    "library(mvProbit)\n",
    "options( digits = 6 )"
   ]
  },
  {
   "cell_type": "code",
   "execution_count": 2,
   "id": "35e3a492",
   "metadata": {},
   "outputs": [],
   "source": [
    "#read data created by \"data processing\"\n",
    "d <- read.csv(\"D:/Processed Data/NRW_ownership_input.csv\")"
   ]
  },
  {
   "cell_type": "code",
   "execution_count": 3,
   "id": "5e412826",
   "metadata": {
    "scrolled": true
   },
   "outputs": [],
   "source": [
    "#enter \"mvProbit-world\". Throw out all columns not used\n",
    "#WITHOUT dummies for Raumtyp_11.0, alter_gr_4, P_BIL_4, HP_SEX_1, taet_1, oek_status_3, hhgr_gr2_1\n",
    "d_mvProbit <- subset(d, select = c(cbike, ebike, elevar, Raumtyp_12, Raumtyp_21, Raumtyp_22,  alter_gr_1, alter_gr_2, alter_gr_3, alter_gr_5, alter_gr_6, alter_gr_7, alter_gr_8, P_BIL_1, P_BIL_2, P_BIL_3, P_BIL_5, P_BIL_6, HP_SEX_2, taet_2, taet_3, taet_4, taet_5, oek_status_1, oek_status_2, oek_status_4, oek_status_5, hhgr_gr2_2, hhgr_gr2_3, hhgr_gr2_4))\n",
    "\n",
    "#add column \"constant\" (always 1) to estimate ASC\n",
    "nObs <- nrow(d_mvProbit)\n",
    "const <- rep(1, nObs)\n",
    "d_mvProbit <- cbind(d_mvProbit, const)\n",
    "\n",
    "#test with sample of 1000 observations\n",
    "#d_mvProbit_1000 <- d_mvProbit[sample(nrow(d_mvProbit), 1000),]"
   ]
  },
  {
   "cell_type": "code",
   "execution_count": 4,
   "id": "42ac9ba9",
   "metadata": {},
   "outputs": [],
   "source": [
    "#define starting values for betas; one beta more than parameters (for constant which is not called explicitly in mvProbit function)\n",
    "#starting values from a past estimation\n",
    "beta <- cbind(c(1.2,-15.5,0,0,0,0.1,-0.4,-0.2,-0.2,-0.3,-0.4,-1,-0.2,-0.2,0,0.1,0.2,-0.1,0.1,-0.3,-0.2,-0.2,-0.2,-0.1,0.2,0.2,0.2,0.3,0.4),\n",
    "             c(-1.9,-0.5,0,0,0,-1.2,-1.6,-0.4,0.3,0.5,0.4,0.1,-0.2,0.2,0.2,0,0,0,0.1,0.1,0.2,0,-0.2,-0.2,0,0.1,0.3,0.1,0.1))\n",
    "\n",
    "#define starting values for covariance of error terms\n",
    "#starting values from a past estimation\n",
    "sigma <- cbind(c(1,-0.27),\n",
    "              c(-0.27,1))"
   ]
  },
  {
   "cell_type": "code",
   "execution_count": 5,
   "id": "2e0c0bad",
   "metadata": {},
   "outputs": [],
   "source": [
    "#mvProbit estimation\n",
    "estResult <- mvProbit(cbind(cbike, ebike)~elevar+Raumtyp_12+Raumtyp_21+Raumtyp_22+alter_gr_1+alter_gr_2+alter_gr_3+alter_gr_5+alter_gr_6+alter_gr_7+alter_gr_8+P_BIL_1+P_BIL_2+P_BIL_3+P_BIL_5+P_BIL_6+HP_SEX_2+taet_2+taet_3+taet_4+taet_5+oek_status_1+oek_status_2+oek_status_4+oek_status_5+hhgr_gr2_2+hhgr_gr2_3+hhgr_gr2_4,\n",
    "                     start = c(beta),\n",
    "                      startSigma = sigma,\n",
    "                      data = d_mvProbit, iterlim = 4, nGHK = 50,\n",
    "                     method = \"BHHH\")"
   ]
  },
  {
   "cell_type": "code",
   "execution_count": 6,
   "id": "ed5df0fb",
   "metadata": {
    "scrolled": false
   },
   "outputs": [
    {
     "data": {
      "text/plain": [
       "\n",
       "Call:\n",
       "mvProbit(formula = cbind(cbike, ebike) ~ elevar + Raumtyp_12 + \n",
       "    Raumtyp_21 + Raumtyp_22 + alter_gr_1 + alter_gr_2 + alter_gr_3 + \n",
       "    alter_gr_5 + alter_gr_6 + alter_gr_7 + alter_gr_8 + P_BIL_1 + \n",
       "    P_BIL_2 + P_BIL_3 + P_BIL_5 + P_BIL_6 + HP_SEX_2 + taet_2 + \n",
       "    taet_3 + taet_4 + taet_5 + oek_status_1 + oek_status_2 + \n",
       "    oek_status_4 + oek_status_5 + hhgr_gr2_2 + hhgr_gr2_3 + hhgr_gr2_4, \n",
       "    data = d_mvProbit, start = c(beta), startSigma = sigma, method = \"BHHH\", \n",
       "    nGHK = 50, iterlim = 4)\n",
       "\n",
       "Coefficients:\n",
       "         Estimate Std. error t value  Pr(> t)    \n",
       "b_1_0    1.203478   0.043671  27.558  < 2e-16 ***\n",
       "b_1_1  -15.918722   0.599796 -26.540  < 2e-16 ***\n",
       "b_1_2    0.004840   0.020601   0.235 0.814262    \n",
       "b_1_3    0.055564   0.027599   2.013 0.044088 *  \n",
       "b_1_4    0.343413   0.087675   3.917 8.97e-05 ***\n",
       "b_1_5    0.148787   0.110943   1.341 0.179881    \n",
       "b_1_6   -0.393771   0.049054  -8.027 9.97e-16 ***\n",
       "b_1_7   -0.246898   0.042638  -5.791 7.01e-09 ***\n",
       "b_1_8   -0.154398   0.034413  -4.487 7.24e-06 ***\n",
       "b_1_9   -0.280923   0.040047  -7.015 2.30e-12 ***\n",
       "b_1_10  -0.438913   0.046209  -9.498  < 2e-16 ***\n",
       "b_1_11  -0.998223   0.053903 -18.519  < 2e-16 ***\n",
       "b_1_12  -0.191443   0.087556  -2.187 0.028778 *  \n",
       "b_1_13  -0.202025   0.029377  -6.877 6.11e-12 ***\n",
       "b_1_14  -0.054495   0.027436  -1.986 0.047007 *  \n",
       "b_1_15   0.140081   0.026053   5.377 7.58e-08 ***\n",
       "b_1_16  -0.183940   0.060581  -3.036 0.002395 ** \n",
       "b_1_17  -0.149316   0.018074  -8.261  < 2e-16 ***\n",
       "b_1_18   0.109951   0.052687   2.087 0.036901 *  \n",
       "b_1_19  -0.258844   0.043343  -5.972 2.34e-09 ***\n",
       "b_1_20  -0.206268   0.032542  -6.339 2.32e-10 ***\n",
       "b_1_21  -0.226792   0.048697  -4.657 3.21e-06 ***\n",
       "b_1_22  -0.199828   0.044009  -4.541 5.61e-06 ***\n",
       "b_1_23  -0.136290   0.031387  -4.342 1.41e-05 ***\n",
       "b_1_24   0.168873   0.021976   7.685 1.54e-14 ***\n",
       "b_1_25   0.208986   0.036376   5.745 9.18e-09 ***\n",
       "b_1_26   0.213040   0.024500   8.695  < 2e-16 ***\n",
       "b_1_27   0.269005   0.033188   8.105 5.25e-16 ***\n",
       "b_1_28   0.425896   0.034363  12.394  < 2e-16 ***\n",
       "b_2_0   -1.951632   0.060534 -32.240  < 2e-16 ***\n",
       "b_2_1   -1.197725   0.767644  -1.560 0.118698    \n",
       "b_2_2    0.219730   0.025555   8.598  < 2e-16 ***\n",
       "b_2_3    0.289623   0.032746   8.845  < 2e-16 ***\n",
       "b_2_4    0.003226   0.118953   0.027 0.978363    \n",
       "b_2_5   -0.585804   0.259127  -2.261 0.023779 *  \n",
       "b_2_6   -0.725908   0.115708  -6.274 3.53e-10 ***\n",
       "b_2_7   -0.218397   0.066197  -3.299 0.000970 ***\n",
       "b_2_8    0.287209   0.044283   6.486 8.83e-11 ***\n",
       "b_2_9    0.528147   0.051818  10.192  < 2e-16 ***\n",
       "b_2_10   0.417475   0.059382   7.030 2.06e-12 ***\n",
       "b_2_11   0.122186   0.072286   1.690 0.090969 .  \n",
       "b_2_12  -0.075160   0.205325  -0.366 0.714324    \n",
       "b_2_13   0.126075   0.037823   3.333 0.000858 ***\n",
       "b_2_14   0.126249   0.035570   3.549 0.000386 ***\n",
       "b_2_15  -0.019834   0.034262  -0.579 0.562663    \n",
       "b_2_16  -0.016634   0.081522  -0.204 0.838319    \n",
       "b_2_17  -0.016759   0.023308  -0.719 0.472118    \n",
       "b_2_18   0.050071   0.133616   0.375 0.707853    \n",
       "b_2_19   0.124771   0.053351   2.339 0.019353 *  \n",
       "b_2_20   0.178618   0.038807   4.603 4.17e-06 ***\n",
       "b_2_21   0.058277   0.069522   0.838 0.401893    \n",
       "b_2_22  -0.179893   0.068773  -2.616 0.008903 ** \n",
       "b_2_23  -0.244868   0.046981  -5.212 1.87e-07 ***\n",
       "b_2_24   0.034958   0.027342   1.279 0.201050    \n",
       "b_2_25   0.074790   0.042304   1.768 0.077079 .  \n",
       "b_2_26   0.285357   0.034045   8.382  < 2e-16 ***\n",
       "b_2_27   0.135785   0.046380   2.928 0.003415 ** \n",
       "b_2_28   0.121616   0.048119   2.527 0.011491 *  \n",
       "R_1_2   -0.266868   0.014171 -18.832  < 2e-16 ***\n",
       "---\n",
       "Signif. codes:  0 '***' 0.001 '**' 0.01 '*' 0.05 '.' 0.1 ' ' 1\n",
       "\n",
       "BHHH maximisation, 4 iterations\n",
       "Return code 4: Iteration limit exceeded (iterlim)\n",
       "Log-likelihood: -21399.4 on 59 Df\n"
      ]
     },
     "metadata": {},
     "output_type": "display_data"
    }
   ],
   "source": [
    "summary(estResult)"
   ]
  },
  {
   "cell_type": "code",
   "execution_count": 7,
   "id": "b2caa0a8",
   "metadata": {
    "scrolled": false
   },
   "outputs": [
    {
     "data": {
      "text/html": [
       "-37628.1878438772"
      ],
      "text/latex": [
       "-37628.1878438772"
      ],
      "text/markdown": [
       "-37628.1878438772"
      ],
      "text/plain": [
       "[1] -37628.2"
      ]
     },
     "metadata": {},
     "output_type": "display_data"
    }
   ],
   "source": [
    "#Calculate null-log-likelihood\n",
    "\n",
    "#data\n",
    "d_mvProbit_0 <- d_mvProbit\n",
    "\n",
    "# model coefficients\n",
    "beta_0 <- cbind(c(0, 0, 0, 0, 0, 0, 0, 0, 0, 0, 0, 0, 0, 0, 0, 0, 0, 0, 0, 0, 0, 0, 0, 0, 0, 0, 0, 0, 0),\n",
    "               c(0, 0, 0, 0, 0, 0, 0, 0, 0, 0, 0, 0, 0, 0, 0, 0, 0, 0, 0, 0, 0, 0, 0, 0, 0, 0, 0, 0, 0))\n",
    "\n",
    "# covariance matrix of error terms\n",
    "sigma_0 <- cbind(c(1,0),\n",
    "              c(0,1))\n",
    "\n",
    "\n",
    "# log likelihood values\n",
    "logLikVal <- mvProbitLogLik( cbind(cbike, ebike)~elevar+Raumtyp_12+Raumtyp_21+Raumtyp_22+alter_gr_1+alter_gr_2+alter_gr_3+alter_gr_5+alter_gr_6+alter_gr_7+alter_gr_8+P_BIL_1+P_BIL_2+P_BIL_3+P_BIL_5+P_BIL_6+HP_SEX_2+taet_2+taet_3+taet_4+taet_5+oek_status_1+oek_status_2+oek_status_4+oek_status_5+hhgr_gr2_2+hhgr_gr2_3+hhgr_gr2_4, \n",
    "   coef = c( beta_0 ), sigma = sigma_0, data = d_mvProbit_0 )\n",
    "\n",
    "sum(logLikVal)"
   ]
  },
  {
   "cell_type": "code",
   "execution_count": null,
   "id": "f1041abb",
   "metadata": {},
   "outputs": [],
   "source": [
    "#hessian(estResult)\n",
    "#vcov( estResult, eigentol=1e-12)"
   ]
  }
 ],
 "metadata": {
  "kernelspec": {
   "display_name": "R",
   "language": "R",
   "name": "ir"
  },
  "language_info": {
   "codemirror_mode": "r",
   "file_extension": ".r",
   "mimetype": "text/x-r-source",
   "name": "R",
   "pygments_lexer": "r",
   "version": "4.1.3"
  }
 },
 "nbformat": 4,
 "nbformat_minor": 5
}
