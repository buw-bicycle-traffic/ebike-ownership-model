{
 "cells": [
  {
   "cell_type": "code",
   "execution_count": null,
   "id": "2ab0ae09",
   "metadata": {},
   "outputs": [],
   "source": [
    "install.packages(\"mvProbit\")\n",
    "library(mvProbit)\n",
    "options( digits = 6 )\n",
    "options(repr.matrix.max.cols = Inf)"
   ]
  },
  {
   "cell_type": "code",
   "execution_count": null,
   "id": "5e412826",
   "metadata": {
    "scrolled": true
   },
   "outputs": [],
   "source": [
    "#read data created by \"data processing\"\n",
    "d <- read.csv(\"D:/Processed Data/DE_ownership_input_30k.csv\")\n",
    "#d\n",
    "\n",
    "#Throw out all columns not used\n",
    "d_mvProbit <- subset(d, select = c(cbike, ebike, elevar, Raumtyp_12, Raumtyp_21, Raumtyp_22,  alter_gr_1, alter_gr_2, alter_gr_3, alter_gr_5, alter_gr_6, alter_gr_7, alter_gr_8, P_BIL_2, P_BIL_3, P_BIL_5, P_BIL_6, HP_SEX_2, taet_2, taet_3, taet_4, taet_5, oek_status_1, oek_status_2, oek_status_4, oek_status_5, hhgr_gr2_2, hhgr_gr2_3, hhgr_gr2_4))\n",
    "\n",
    "#add column \"constant\" (always 1) to estimate ASC\n",
    "nObs <- nrow(d_mvProbit)\n",
    "const <- rep(1, nObs)\n",
    "d_mvProbit <- cbind(d_mvProbit, const)\n",
    "\n",
    "#create variables for interaction of age with occupation and level of education\n",
    "d_mvProbit$P_BIL_2xadult <- d_mvProbit$P_BIL_2 * (1- d_mvProbit$alter_gr_1)\n",
    "d_mvProbit$P_BIL_2 <- NULL\n",
    "d_mvProbit$P_BIL_3xadult <- d_mvProbit$P_BIL_3 * (1- d_mvProbit$alter_gr_1)\n",
    "d_mvProbit$P_BIL_3 <- NULL\n",
    "d_mvProbit$P_BIL_5xadult <- d_mvProbit$P_BIL_5 * (1- d_mvProbit$alter_gr_1)\n",
    "d_mvProbit$P_BIL_5 <- NULL\n",
    "d_mvProbit$P_BIL_6xadult <- d_mvProbit$P_BIL_6 * (1- d_mvProbit$alter_gr_1)\n",
    "d_mvProbit$P_BIL_6 <- NULL\n",
    "\n",
    "d_mvProbit$taet_2xadult <- d_mvProbit$taet_2 * (1- d_mvProbit$alter_gr_1)\n",
    "d_mvProbit$taet_2 <- NULL\n",
    "d_mvProbit$taet_3xadult <- d_mvProbit$taet_3 * (1- d_mvProbit$alter_gr_1)\n",
    "d_mvProbit$taet_3 <- NULL\n",
    "d_mvProbit$taet_4xadult <- d_mvProbit$taet_4 * (1- d_mvProbit$alter_gr_1)\n",
    "d_mvProbit$taet_4 <- NULL\n",
    "d_mvProbit$taet_5xadult <- d_mvProbit$taet_5 * (1- d_mvProbit$alter_gr_1)\n",
    "d_mvProbit$taet_5 <- NULL"
   ]
  },
  {
   "cell_type": "code",
   "execution_count": null,
   "id": "42ac9ba9",
   "metadata": {},
   "outputs": [],
   "source": [
    "#define starting values for betas; one beta more than parameters (for constant which is not called explicitly in mvProbit function)\n",
    "#starting values from a past estimation\n",
    "beta <- cbind(c(1.1,-3.3,-0.09,-0.01,0.1,0.27,-0.28,-0.15,-0.1,-0.19,-0.39,-0.98,-0.18,-0.096,0.12,-0.079,-0.18,0.05,-0.13,-0.18,-0.28,-0.12,-0.10,0.2,0.22,0.21,0.26,0.44),\n",
    "             c(-1.9,0.67,0.11,0.21,0.12,-0.51,-0.61,-0.25,0.19,0.38,0.4,0.16,0.14,0.11,-0.04,0,-0.04,0.07,0.17,0.09,-0.03,-0.25,-0.19,0.03,0.16,0.27,0.11,0.13))\n",
    "\n",
    "#define starting values for covariance of error terms (from past estimations)\n",
    "sigma <- cbind(c(1,-0.238),\n",
    "              c(-0.238,1))"
   ]
  },
  {
   "cell_type": "code",
   "execution_count": null,
   "id": "2e0c0bad",
   "metadata": {},
   "outputs": [],
   "source": [
    "#mvProbit estimation\n",
    "estResult <- mvProbit(cbind(cbike, ebike)~elevar+Raumtyp_12+Raumtyp_21+Raumtyp_22+alter_gr_1+alter_gr_2+alter_gr_3+alter_gr_5+alter_gr_6+alter_gr_7+alter_gr_8+P_BIL_2xadult+P_BIL_3xadult+P_BIL_5xadult+P_BIL_6xadult+HP_SEX_2+taet_2xadult+taet_3xadult+taet_4xadult+taet_5xadult+oek_status_1+oek_status_2+oek_status_4+oek_status_5+hhgr_gr2_2+hhgr_gr2_3+hhgr_gr2_4,\n",
    "                     start = c(beta),\n",
    "                      startSigma = sigma,\n",
    "                      data = d_mvProbit, iterlim = 10, nGHK = 50,\n",
    "                     method = \"BHHH\")"
   ]
  },
  {
   "cell_type": "code",
   "execution_count": null,
   "id": "ed5df0fb",
   "metadata": {},
   "outputs": [],
   "source": [
    "summary(estResult)"
   ]
  },
  {
   "cell_type": "code",
   "execution_count": null,
   "id": "b2caa0a8",
   "metadata": {},
   "outputs": [],
   "source": [
    "#Calculate null-log-likelihood\n",
    "\n",
    "#data\n",
    "d_mvProbit_0 <- d_mvProbit_30000\n",
    "\n",
    "# model coefficients\n",
    "beta_0 <- cbind(c(0, 0, 0, 0, 0, 0, 0, 0, 0, 0, 0, 0, 0, 0, 0, 0, 0, 0, 0, 0, 0, 0, 0, 0, 0, 0, 0, 0),\n",
    "               c(0, 0, 0, 0, 0, 0, 0, 0, 0, 0, 0, 0, 0, 0, 0, 0, 0, 0, 0, 0, 0, 0, 0, 0, 0, 0, 0, 0))\n",
    "\n",
    "# covariance matrix of error terms\n",
    "sigma_0 <- cbind(c(1,0),\n",
    "              c(0,1))\n",
    "\n",
    "# log likelihood values\n",
    "logLikVal <- mvProbitLogLik( cbind(cbike, ebike)~elevar+Raumtyp_12+Raumtyp_21+Raumtyp_22+alter_gr_1+alter_gr_2+alter_gr_3+alter_gr_5+alter_gr_6+alter_gr_7+alter_gr_8+P_BIL_2xadult+P_BIL_3xadult+P_BIL_5xadult+P_BIL_6xadult+HP_SEX_2+taet_2xadult+taet_3xadult+taet_4xadult+taet_5xadult+oek_status_1+oek_status_2+oek_status_4+oek_status_5+hhgr_gr2_2+hhgr_gr2_3+hhgr_gr2_4, \n",
    "   coef = c( beta_0 ), sigma = sigma_0, data = d_mvProbit_0 )\n",
    "\n",
    "sum(logLikVal)"
   ]
  },
  {
   "cell_type": "code",
   "execution_count": null,
   "id": "f1041abb",
   "metadata": {},
   "outputs": [],
   "source": [
    "#hessian(estResult)\n",
    "#vcov( estResult, eigentol=1e-12)"
   ]
  }
 ],
 "metadata": {
  "kernelspec": {
   "display_name": "R",
   "language": "R",
   "name": "ir"
  },
  "language_info": {
   "codemirror_mode": "r",
   "file_extension": ".r",
   "mimetype": "text/x-r-source",
   "name": "R",
   "pygments_lexer": "r",
   "version": "4.1.3"
  }
 },
 "nbformat": 4,
 "nbformat_minor": 5
}
