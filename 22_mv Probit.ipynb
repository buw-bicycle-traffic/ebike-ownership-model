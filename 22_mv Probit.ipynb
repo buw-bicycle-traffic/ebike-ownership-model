{
 "cells": [
  {
   "cell_type": "code",
   "execution_count": null,
   "id": "2ab0ae09",
   "metadata": {},
   "outputs": [],
   "source": [
    "install.packages(\"mvProbit\")\n",
    "library(mvProbit)\n",
    "options( digits = 6 )"
   ]
  },
  {
   "cell_type": "code",
   "execution_count": null,
   "id": "35e3a492",
   "metadata": {},
   "outputs": [],
   "source": [
    "#read data created by \"data processing\"\n",
    "d <- read.csv(\"D:/Processed Data/NRW_ownership_input.csv\")"
   ]
  },
  {
   "cell_type": "code",
   "execution_count": null,
   "id": "5e412826",
   "metadata": {
    "scrolled": true
   },
   "outputs": [],
   "source": [
    "#enter \"mvProbit-world\". Throw out all columns not used\n",
    "#WITHOUT dummies for Raumtyp_11.0, alter_gr_4, P_BIL_1, HP_SEX_1, taet_1, oek_status_3, hhgr_gr2_1\n",
    "d_mvProbit <- subset(d, select = c(cbike, ebike, elevar, Raumtyp_12, Raumtyp_21, Raumtyp_22,  alter_gr_1, alter_gr_2, alter_gr_3, alter_gr_5, alter_gr_6, alter_gr_7, alter_gr_8, P_BIL_1, P_BIL_2, P_BIL_3, P_BIL_5, P_BIL_6, HP_SEX_2, taet_2, taet_3, taet_4, taet_5, oek_status_1, oek_status_2, oek_status_4, oek_status_5, hhgr_gr2_2, hhgr_gr2_3, hhgr_gr2_4))\n",
    "\n",
    "#add column \"constant\" (always 1) to estimate ASC\n",
    "nObs <- nrow(d_mvProbit)\n",
    "const <- rep(1, nObs)\n",
    "d_mvProbit <- cbind(d_mvProbit, const)\n",
    "\n",
    "#test with sample of 1000 observations\n",
    "#d_mvProbit_1000 <- d_mvProbit[sample(nrow(d_mvProbit), 1000),]"
   ]
  },
  {
   "cell_type": "code",
   "execution_count": null,
   "id": "42ac9ba9",
   "metadata": {},
   "outputs": [],
   "source": [
    "#define starting values for betas; one beta more than parameters (for constant which is not called explicitly in mvProbit function)\n",
    "#starting values from a past estimation\n",
    "beta <- cbind(c(1.2,-15.5,0,0,0,0.1,-0.4,-0.2,-0.2,-0.3,-0.4,-1,-0.2,-0.2,0,0.1,0.2,-0.1,0.1,-0.3,-0.2,-0.2,-0.2,-0.1,0.2,0.2,0.2,0.3,0.4),\n",
    "             c(-1.9,-0.5,0,0,0,-1.2,-1.6,-0.4,0.3,0.5,0.4,0.1,-0.2,0.2,0.2,0,0,0,0.1,0.1,0.2,0,-0.2,-0.2,0,0.1,0.3,0.1,0.1))\n",
    "\n",
    "#define starting values for covariance of error terms\n",
    "#starting values from a past estimation\n",
    "sigma <- cbind(c(1,-0.27),\n",
    "              c(-0.27,1))"
   ]
  },
  {
   "cell_type": "code",
   "execution_count": null,
   "id": "2e0c0bad",
   "metadata": {},
   "outputs": [],
   "source": [
    "#mvProbit estimation\n",
    "estResult <- mvProbit(cbind(cbike, ebike)~elevar+Raumtyp_12+Raumtyp_21+Raumtyp_22+alter_gr_1+alter_gr_2+alter_gr_3+alter_gr_5+alter_gr_6+alter_gr_7+alter_gr_8+P_BIL_1+P_BIL_2+P_BIL_3+P_BIL_5+P_BIL_6+HP_SEX_2+taet_2+taet_3+taet_4+taet_5+oek_status_1+oek_status_2+oek_status_4+oek_status_5+hhgr_gr2_2+hhgr_gr2_3+hhgr_gr2_4,\n",
    "                     start = c(beta),\n",
    "                      startSigma = sigma,\n",
    "                      data = d_mvProbit, iterlim = 4, nGHK = 50,\n",
    "                     method = \"BHHH\")"
   ]
  },
  {
   "cell_type": "code",
   "execution_count": null,
   "id": "ed5df0fb",
   "metadata": {
    "scrolled": false
   },
   "outputs": [],
   "source": [
    "summary(estResult)"
   ]
  },
  {
   "cell_type": "code",
   "execution_count": null,
   "id": "b2caa0a8",
   "metadata": {
    "scrolled": false
   },
   "outputs": [],
   "source": [
    "#Calculate null-log-likelihood\n",
    "\n",
    "#data\n",
    "d_mvProbit_0 <- d_mvProbit\n",
    "\n",
    "# model coefficients\n",
    "beta_0 <- cbind(c(0, 0, 0, 0, 0, 0, 0, 0, 0, 0, 0, 0, 0, 0, 0, 0, 0, 0, 0, 0, 0, 0, 0, 0, 0, 0, 0, 0, 0),\n",
    "               c(0, 0, 0, 0, 0, 0, 0, 0, 0, 0, 0, 0, 0, 0, 0, 0, 0, 0, 0, 0, 0, 0, 0, 0, 0, 0, 0, 0, 0))\n",
    "\n",
    "# covariance matrix of error terms\n",
    "sigma_0 <- cbind(c(1,0),\n",
    "              c(0,1))\n",
    "\n",
    "\n",
    "# log likelihood values\n",
    "logLikVal <- mvProbitLogLik( cbind(cbike, ebike)~elevar+Raumtyp_12+Raumtyp_21+Raumtyp_22+alter_gr_1+alter_gr_2+alter_gr_3+alter_gr_5+alter_gr_6+alter_gr_7+alter_gr_8+P_BIL_1+P_BIL_2+P_BIL_3+P_BIL_5+P_BIL_6+HP_SEX_2+taet_2+taet_3+taet_4+taet_5+oek_status_1+oek_status_2+oek_status_4+oek_status_5+hhgr_gr2_2+hhgr_gr2_3+hhgr_gr2_4, \n",
    "   coef = c( beta_0 ), sigma = sigma_0, data = d_mvProbit_0 )\n",
    "\n",
    "sum(logLikVal)"
   ]
  },
  {
   "cell_type": "code",
   "execution_count": null,
   "id": "f1041abb",
   "metadata": {},
   "outputs": [],
   "source": [
    "#hessian(estResult)\n",
    "#vcov( estResult, eigentol=1e-12)"
   ]
  }
 ],
 "metadata": {
  "kernelspec": {
   "display_name": "R",
   "language": "R",
   "name": "ir"
  },
  "language_info": {
   "codemirror_mode": "r",
   "file_extension": ".r",
   "mimetype": "text/x-r-source",
   "name": "R",
   "pygments_lexer": "r",
   "version": "4.1.3"
  }
 },
 "nbformat": 4,
 "nbformat_minor": 5
}
